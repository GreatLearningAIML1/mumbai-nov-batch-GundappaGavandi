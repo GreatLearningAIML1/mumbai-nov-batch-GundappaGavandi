{
  "nbformat": 4,
  "nbformat_minor": 0,
  "metadata": {
    "colab": {
      "name": "R9_SeqNLP_P1_IMDB_SentimentAnalysis.ipynb",
      "version": "0.3.2",
      "provenance": [],
      "collapsed_sections": []
    },
    "language_info": {
      "codemirror_mode": {
        "name": "ipython",
        "version": 2
      },
      "file_extension": ".py",
      "mimetype": "text/x-python",
      "name": "python",
      "nbconvert_exporter": "python",
      "pygments_lexer": "ipython2",
      "version": "2.7.14"
    },
    "kernelspec": {
      "display_name": "Python 2",
      "language": "python",
      "name": "python2"
    },
    "accelerator": "GPU"
  },
  "cells": [
    {
      "cell_type": "markdown",
      "metadata": {
        "colab_type": "text",
        "id": "xT7MKZuMRaCg"
      },
      "source": [
        "# Sentiment Classification\n",
        "\n",
        "\n",
        "### Generate Word Embeddings and retrieve outputs of each layer with Keras based on Classification task\n",
        "\n",
        "Word embeddings are a type of word representation that allows words with similar meaning to have a similar representation.\n",
        "\n",
        "It is a distributed representation for text that is perhaps one of the key breakthroughs for the impressive performance of deep learning methods on challenging natural language processing problems.\n",
        "\n",
        "We willl use the imdb dataset to learn word embeddings as we train our dataset. This dataset contains 25,000 movie reviews from IMDB, labeled with sentiment (positive or negative). \n",
        "\n",
        "\n",
        "\n",
        "### Dataset\n",
        "\n",
        "`from keras.datasets import imdb`\n",
        "\n",
        "Dataset of 25,000 movies reviews from IMDB, labeled by sentiment (positive/negative). Reviews have been preprocessed, and each review is encoded as a sequence of word indexes (integers). For convenience, the words are indexed by their frequency in the dataset, meaning the for that has index 1 is the most frequent word. Use the first 20 words from each review to speed up training, using a max vocab size of 10,000.\n",
        "\n",
        "As a convention, \"0\" does not stand for a specific word, but instead is used to encode any unknown word.\n",
        "\n",
        "\n",
        "### Aim\n",
        "\n",
        "1. Import test and train data  \n",
        "2. Import the labels ( train and test) \n",
        "3. Get the word index and then Create key value pair for word and word_id. (12.5 points)\n",
        "4. Build a Sequential Model using Keras for Sentiment Classification task. (10 points)\n",
        "5. Report the Accuracy of the model. (5 points)  \n",
        "6. Retrive the output of each layer in keras for a given single test sample from the trained model you built. (2.5 points)\n"
      ]
    },
    {
      "cell_type": "markdown",
      "metadata": {
        "colab_type": "text",
        "id": "Wq4RCyyPSYRp"
      },
      "source": [
        "#### Usage:"
      ]
    },
    {
      "cell_type": "code",
      "metadata": {
        "id": "HW2-ua3Mi_1t",
        "colab_type": "code",
        "colab": {}
      },
      "source": [
        "import numpy as np\n",
        "from keras.datasets import imdb\n",
        "\n",
        "# save np.load\n",
        "np_load_old = np.load\n",
        "\n",
        "# modify the default parameters of np.load\n",
        "np.load = lambda *a,**k: np_load_old(*a, allow_pickle=True, **k)\n",
        "\n",
        "vocab_size = 10000 #vocab size\n",
        "\n",
        "(x_train, y_train), (x_test, y_test) = imdb.load_data(num_words=vocab_size) # vocab_size is no.of words to consider from the dataset, ordering based on frequency.\n",
        "\n",
        "# restore np.load for future normal usage\n",
        "np.load = np_load_old"
      ],
      "execution_count": 0,
      "outputs": []
    },
    {
      "cell_type": "code",
      "metadata": {
        "id": "c5kutKKL5rp1",
        "colab_type": "code",
        "colab": {}
      },
      "source": [
        "X = np.concatenate((x_train, x_test), axis=0)\n",
        "y = np.concatenate((y_train, y_test), axis=0)"
      ],
      "execution_count": 0,
      "outputs": []
    },
    {
      "cell_type": "code",
      "metadata": {
        "id": "Jy6n-uM2eCy2",
        "colab_type": "code",
        "outputId": "fe0620b0-13d4-48fb-ee9a-eb9b99c90adb",
        "colab": {
          "base_uri": "https://localhost:8080/",
          "height": 52
        }
      },
      "source": [
        "# Summarize number of classes\n",
        "print(\"Classes: \")\n",
        "print(np.unique(y))"
      ],
      "execution_count": 12,
      "outputs": [
        {
          "output_type": "stream",
          "text": [
            "Classes: \n",
            "[0 1]\n"
          ],
          "name": "stdout"
        }
      ]
    },
    {
      "cell_type": "code",
      "metadata": {
        "id": "tZhMAgaNeCy5",
        "colab_type": "code",
        "outputId": "aa9660c8-1d85-4ef0-da13-f04272e2a657",
        "colab": {
          "base_uri": "https://localhost:8080/",
          "height": 52
        }
      },
      "source": [
        "# Summarize number of words\n",
        "print(\"Number of words: \")\n",
        "print(len(np.unique(np.hstack(X))))"
      ],
      "execution_count": 13,
      "outputs": [
        {
          "output_type": "stream",
          "text": [
            "Number of words: \n",
            "9998\n"
          ],
          "name": "stdout"
        }
      ]
    },
    {
      "cell_type": "code",
      "metadata": {
        "id": "Crfq4qml5kfP",
        "colab_type": "code",
        "outputId": "63fd5e02-b30e-47ac-e7ff-caa896150b99",
        "colab": {
          "base_uri": "https://localhost:8080/",
          "height": 304
        }
      },
      "source": [
        "# Summarize review length\n",
        "from matplotlib import pyplot\n",
        "print(\"Review length: \")\n",
        "result = [len(x) for x in X]\n",
        "print(\"Mean %.2f words (%f)\" % (np.mean(result), np.std(result)))\n",
        "# plot review length\n",
        "pyplot.boxplot(result)\n",
        "pyplot.show()"
      ],
      "execution_count": 14,
      "outputs": [
        {
          "output_type": "stream",
          "text": [
            "Review length: \n",
            "Mean 234.76 words (172.911495)\n"
          ],
          "name": "stdout"
        },
        {
          "output_type": "display_data",
          "data": {
            "image/png": "[encoded data removed]",
            "text/plain": [
              "<Figure size 432x288 with 1 Axes>"
            ]
          },
          "metadata": {
            "tags": []
          }
        }
      ]
    },
    {
      "cell_type": "code",
      "metadata": {
        "id": "fCPC_WN-eCyw",
        "colab_type": "code",
        "colab": {}
      },
      "source": [
        "from keras.preprocessing.sequence import pad_sequences\n",
        "vocab_size = 10000 #vocab size\n",
        "maxlen = 300  #number of word used from each review"
      ],
      "execution_count": 0,
      "outputs": []
    },
    {
      "cell_type": "code",
      "metadata": {
        "id": "h0g381XzeCyz",
        "colab_type": "code",
        "colab": {}
      },
      "source": [
        "# modify the default parameters of np.load\n",
        "np.load = lambda *a,**k: np_load_old(*a, allow_pickle=True, **k)\n",
        "\n",
        "vocab_size = 10000 #vocab size\n",
        "\n",
        "#load dataset as a list of ints\n",
        "(x_train, y_train), (x_test, y_test) = imdb.load_data(num_words=vocab_size)\n",
        "#make all sequences of the same length\n",
        "x_train = pad_sequences(x_train, maxlen=maxlen)\n",
        "x_test =  pad_sequences(x_test, maxlen=maxlen)"
      ],
      "execution_count": 0,
      "outputs": []
    },
    {
      "cell_type": "code",
      "metadata": {
        "id": "kFgrtc_1Hr9x",
        "colab_type": "code",
        "outputId": "c1e2de9d-69f8-42e8-d94f-6370ab7d7e8c",
        "colab": {
          "base_uri": "https://localhost:8080/",
          "height": 274
        }
      },
      "source": [
        "# key value pair for word and word_id\n",
        "INDEX_FROM=0   # word index offset\n",
        "word_to_id = imdb.get_word_index()\n",
        "word_to_id = {k:(v+INDEX_FROM) for k,v in word_to_id.items()}\n",
        "# word_to_id[\"<PAD>\"] = 0\n",
        "# word_to_id[\"<START>\"] = 1\n",
        "# word_to_id[\"<UNK>\"] = 2\n",
        "\n",
        "id_to_word = {value:key for key,value in word_to_id.items()}\n",
        "print(id_to_word[0])\n",
        "# print(' '.join(id_to_word[id] for id in x_train[0] ))"
      ],
      "execution_count": 20,
      "outputs": [
        {
          "output_type": "stream",
          "text": [
            "Downloading data from https://s3.amazonaws.com/text-datasets/imdb_word_index.json\n",
            "1646592/1641221 [==============================] - 1s 1us/step\n",
            "1654784/1641221 [==============================] - 1s 1us/step\n"
          ],
          "name": "stdout"
        },
        {
          "output_type": "error",
          "ename": "KeyError",
          "evalue": "ignored",
          "traceback": [
            "\u001b[0;31m\u001b[0m",
            "\u001b[0;31mKeyError\u001b[0mTraceback (most recent call last)",
            "\u001b[0;32m<ipython-input-20-d4fd48719df8>\u001b[0m in \u001b[0;36m<module>\u001b[0;34m()\u001b[0m\n\u001b[1;32m      7\u001b[0m \u001b[0;34m\u001b[0m\u001b[0m\n\u001b[1;32m      8\u001b[0m \u001b[0mid_to_word\u001b[0m \u001b[0;34m=\u001b[0m \u001b[0;34m{\u001b[0m\u001b[0mvalue\u001b[0m\u001b[0;34m:\u001b[0m\u001b[0mkey\u001b[0m \u001b[0;32mfor\u001b[0m \u001b[0mkey\u001b[0m\u001b[0;34m,\u001b[0m\u001b[0mvalue\u001b[0m \u001b[0;32min\u001b[0m \u001b[0mword_to_id\u001b[0m\u001b[0;34m.\u001b[0m\u001b[0mitems\u001b[0m\u001b[0;34m(\u001b[0m\u001b[0;34m)\u001b[0m\u001b[0;34m}\u001b[0m\u001b[0;34m\u001b[0m\u001b[0;34m\u001b[0m\u001b[0m\n\u001b[0;32m----> 9\u001b[0;31m \u001b[0;32mprint\u001b[0m\u001b[0;34m(\u001b[0m\u001b[0mid_to_word\u001b[0m\u001b[0;34m[\u001b[0m\u001b[0;36m0\u001b[0m\u001b[0;34m]\u001b[0m\u001b[0;34m)\u001b[0m\u001b[0;34m\u001b[0m\u001b[0;34m\u001b[0m\u001b[0m\n\u001b[0m\u001b[1;32m     10\u001b[0m \u001b[0;31m# print(' '.join(id_to_word[id] for id in x_train[0] ))\u001b[0m\u001b[0;34m\u001b[0m\u001b[0;34m\u001b[0m\u001b[0;34m\u001b[0m\u001b[0m\n",
            "\u001b[0;31mKeyError\u001b[0m: 0"
          ]
        }
      ]
    },
    {
      "cell_type": "markdown",
      "metadata": {
        "id": "dybtUgUReCy8",
        "colab_type": "text"
      },
      "source": [
        "## Build Keras Embedding Layer Model\n",
        "We can think of the Embedding layer as a dicionary that maps a index assigned to a word to a word vector. This layer is very flexible and can be used in a few ways:\n",
        "\n",
        "* The embedding layer can be used at the start of a larger deep learning model. \n",
        "* Also we could load pre-train word embeddings into the embedding layer when we create our model.\n",
        "* Use the embedding layer to train our own word2vec models.\n",
        "\n",
        "The keras embedding layer doesn't require us to onehot encode our words, instead we have to give each word a unqiue intger number as an id. For the imdb dataset we've loaded this has already been done, but if this wasn't the case we could use sklearn [LabelEncoder](http://scikit-learn.org/stable/modules/generated/sklearn.preprocessing.LabelEncoder.html)."
      ]
    },
    {
      "cell_type": "code",
      "metadata": {
        "id": "A5OLM4eBeCy9",
        "colab_type": "code",
        "colab": {}
      },
      "source": [
        "from keras.datasets import imdb\n",
        "from keras.models import Sequential\n",
        "from keras.layers import Dense\n",
        "from keras.layers import Flatten\n",
        "from keras.layers.embeddings import Embedding\n",
        "from keras.preprocessing import sequence"
      ],
      "execution_count": 0,
      "outputs": []
    },
    {
      "cell_type": "code",
      "metadata": {
        "id": "TxNDNhrseCzA",
        "colab_type": "code",
        "outputId": "b0246601-e4cd-412e-bfd2-1a1dfc83802f",
        "colab": {
          "base_uri": "https://localhost:8080/",
          "height": 570
        }
      },
      "source": [
        "# create the model\n",
        "model = Sequential()\n",
        "model.add(Embedding(vocab_size, 32, input_length=maxlen))\n",
        "model.add(Flatten())\n",
        "model.add(Dense(250, activation='relu'))\n",
        "model.add(Dense(1, activation='sigmoid'))\n",
        "model.compile(loss='binary_crossentropy', optimizer='adam', metrics=['accuracy'])\n",
        "print(model.summary())"
      ],
      "execution_count": 22,
      "outputs": [
        {
          "output_type": "stream",
          "text": [
            "WARNING: Logging before flag parsing goes to stderr.\n",
            "W0728 17:16:54.045618 139809411356544 deprecation_wrapper.py:119] From /usr/local/lib/python2.7/dist-packages/keras/backend/tensorflow_backend.py:74: The name tf.get_default_graph is deprecated. Please use tf.compat.v1.get_default_graph instead.\n",
            "\n",
            "W0728 17:16:54.087809 139809411356544 deprecation_wrapper.py:119] From /usr/local/lib/python2.7/dist-packages/keras/backend/tensorflow_backend.py:517: The name tf.placeholder is deprecated. Please use tf.compat.v1.placeholder instead.\n",
            "\n",
            "W0728 17:16:54.095698 139809411356544 deprecation_wrapper.py:119] From /usr/local/lib/python2.7/dist-packages/keras/backend/tensorflow_backend.py:4138: The name tf.random_uniform is deprecated. Please use tf.random.uniform instead.\n",
            "\n",
            "W0728 17:16:54.139760 139809411356544 deprecation_wrapper.py:119] From /usr/local/lib/python2.7/dist-packages/keras/optimizers.py:790: The name tf.train.Optimizer is deprecated. Please use tf.compat.v1.train.Optimizer instead.\n",
            "\n",
            "W0728 17:16:54.158655 139809411356544 deprecation_wrapper.py:119] From /usr/local/lib/python2.7/dist-packages/keras/backend/tensorflow_backend.py:3376: The name tf.log is deprecated. Please use tf.math.log instead.\n",
            "\n",
            "W0728 17:16:54.164599 139809411356544 deprecation.py:323] From /usr/local/lib/python2.7/dist-packages/tensorflow/python/ops/nn_impl.py:180: where (from tensorflow.python.ops.array_ops) is deprecated and will be removed in a future version.\n",
            "Instructions for updating:\n",
            "Use tf.where in 2.0, which has the same broadcast rule as np.where\n"
          ],
          "name": "stderr"
        },
        {
          "output_type": "stream",
          "text": [
            "_________________________________________________________________\n",
            "Layer (type)                 Output Shape              Param #   \n",
            "=================================================================\n",
            "embedding_1 (Embedding)      (None, 300, 32)           320000    \n",
            "_________________________________________________________________\n",
            "flatten_1 (Flatten)          (None, 9600)              0         \n",
            "_________________________________________________________________\n",
            "dense_1 (Dense)              (None, 250)               2400250   \n",
            "_________________________________________________________________\n",
            "dense_2 (Dense)              (None, 1)                 251       \n",
            "=================================================================\n",
            "Total params: 2,720,501\n",
            "Trainable params: 2,720,501\n",
            "Non-trainable params: 0\n",
            "_________________________________________________________________\n",
            "None\n"
          ],
          "name": "stdout"
        }
      ]
    },
    {
      "cell_type": "code",
      "metadata": {
        "id": "L3CSVVPPeCzD",
        "colab_type": "code",
        "outputId": "af39667a-83a5-4ba1-e744-069cdddc4a8b",
        "colab": {
          "base_uri": "https://localhost:8080/",
          "height": 463
        }
      },
      "source": [
        "# Fit the model\n",
        "model.fit(x_train, y_train, validation_data=(x_test, y_test), epochs=10, batch_size=128, verbose=2)\n",
        "# Final evaluation of the model\n",
        "scores = model.evaluate(x_test, y_test, verbose=0)\n",
        "print(\"Accuracy: %.2f%%\" % (scores[1]*100))"
      ],
      "execution_count": 23,
      "outputs": [
        {
          "output_type": "stream",
          "text": [
            "W0728 17:17:08.370009 139809411356544 deprecation_wrapper.py:119] From /usr/local/lib/python2.7/dist-packages/keras/backend/tensorflow_backend.py:986: The name tf.assign_add is deprecated. Please use tf.compat.v1.assign_add instead.\n",
            "\n"
          ],
          "name": "stderr"
        },
        {
          "output_type": "stream",
          "text": [
            "Train on 25000 samples, validate on 25000 samples\n",
            "Epoch 1/10\n",
            " - 5s - loss: 0.4508 - acc: 0.7616 - val_loss: 0.2966 - val_acc: 0.8716\n",
            "Epoch 2/10\n",
            " - 1s - loss: 0.1330 - acc: 0.9530 - val_loss: 0.3375 - val_acc: 0.8637\n",
            "Epoch 3/10\n",
            " - 1s - loss: 0.0228 - acc: 0.9955 - val_loss: 0.4377 - val_acc: 0.8629\n",
            "Epoch 4/10\n",
            " - 1s - loss: 0.0029 - acc: 0.9999 - val_loss: 0.4838 - val_acc: 0.8647\n",
            "Epoch 5/10\n",
            " - 1s - loss: 9.9365e-04 - acc: 1.0000 - val_loss: 0.5102 - val_acc: 0.8656\n",
            "Epoch 6/10\n",
            " - 1s - loss: 5.5479e-04 - acc: 1.0000 - val_loss: 0.5310 - val_acc: 0.8663\n",
            "Epoch 7/10\n",
            " - 1s - loss: 3.6237e-04 - acc: 1.0000 - val_loss: 0.5483 - val_acc: 0.8665\n",
            "Epoch 8/10\n",
            " - 1s - loss: 2.5784e-04 - acc: 1.0000 - val_loss: 0.5634 - val_acc: 0.8672\n",
            "Epoch 9/10\n",
            " - 1s - loss: 1.9232e-04 - acc: 1.0000 - val_loss: 0.5769 - val_acc: 0.8669\n",
            "Epoch 10/10\n",
            " - 1s - loss: 1.4798e-04 - acc: 1.0000 - val_loss: 0.5891 - val_acc: 0.8671\n",
            "Accuracy: 86.71%\n"
          ],
          "name": "stdout"
        }
      ]
    },
    {
      "cell_type": "markdown",
      "metadata": {
        "id": "Igq8Qm8GeCzG",
        "colab_type": "text"
      },
      "source": [
        "## Retrive the output of each layer in keras for a given single test sample from the trained model you built"
      ]
    },
    {
      "cell_type": "code",
      "metadata": {
        "id": "0AqOnLa2eCzH",
        "colab_type": "code",
        "outputId": "f7f0dc9d-d346-47f2-d07b-344e023990e5",
        "colab": {
          "base_uri": "https://localhost:8080/",
          "height": 1000
        }
      },
      "source": [
        "#output of each layer in keras for a given single test sample from the trained model you built\n",
        "\n",
        "#output 1st test input\n",
        "from keras import backend as K\n",
        "\n",
        "inp = model.input                                           # input placeholder\n",
        "outputs = [layer.output for layer in model.layers]          # all layer outputs\n",
        "functor = K.function([inp, K.learning_phase()], outputs )   # evaluation function\n",
        "\n",
        "# Testing\n",
        "layer_outs = functor([x_test[0:1], 1.])\n",
        "print layer_outs"
      ],
      "execution_count": 24,
      "outputs": [
        {
          "output_type": "stream",
          "text": [
            "[array([[[ 0.00399897,  0.00928004, -0.00539494, ..., -0.00369706,\n",
            "         -0.00754519, -0.01427043],\n",
            "        [ 0.00399897,  0.00928004, -0.00539494, ..., -0.00369706,\n",
            "         -0.00754519, -0.01427043],\n",
            "        [ 0.00399897,  0.00928004, -0.00539494, ..., -0.00369706,\n",
            "         -0.00754519, -0.01427043],\n",
            "        ...,\n",
            "        [ 0.04108026, -0.00830565, -0.0394357 , ...,  0.01502962,\n",
            "          0.01348254, -0.04305512],\n",
            "        [ 0.04625212,  0.00934713, -0.03547856, ...,  0.01545973,\n",
            "          0.00219694, -0.0221229 ],\n",
            "        [ 0.00179564, -0.03668812,  0.05982541, ..., -0.03496486,\n",
            "         -0.0194705 , -0.04267405]]], dtype=float32), array([[ 0.00399897,  0.00928004, -0.00539494, ..., -0.03496486,\n",
            "        -0.0194705 , -0.04267405]], dtype=float32), array([[0.41149628, 0.42018658, 0.14357457, 0.40636268, 0.38783616,\n",
            "        0.44689465, 0.50054073, 0.17286317, 0.4111919 , 0.5005228 ,\n",
            "        0.18867555, 0.40538773, 0.11361304, 0.15637746, 0.12467961,\n",
            "        0.44135988, 0.4001837 , 0.17141305, 0.40253487, 0.4261744 ,\n",
            "        0.36111367, 0.3870376 , 0.15916368, 0.40486676, 0.3874234 ,\n",
            "        0.51990086, 0.12329239, 0.15568738, 0.40858012, 0.3702959 ,\n",
            "        0.18676025, 0.18424004, 0.43566474, 0.16151483, 0.408785  ,\n",
            "        0.13052888, 0.45583588, 0.4631882 , 0.3903771 , 0.1655144 ,\n",
            "        0.36919534, 0.15295276, 0.10984194, 0.4677814 , 0.13443105,\n",
            "        0.16801666, 0.39593953, 0.1335445 , 0.14080596, 0.4954075 ,\n",
            "        0.41937873, 0.42779398, 0.55991673, 0.3775093 , 0.43393436,\n",
            "        0.12029243, 0.38156474, 0.47251183, 0.10187288, 0.36726964,\n",
            "        0.15460849, 0.18361351, 0.39494914, 0.4133718 , 0.64930016,\n",
            "        0.26586702, 0.13081643, 0.24171485, 0.1776043 , 0.15214494,\n",
            "        0.16325153, 0.47185877, 0.17159672, 0.34647185, 0.42244345,\n",
            "        0.15236858, 0.5065985 , 0.6165229 , 0.11739666, 0.18490446,\n",
            "        0.14734057, 0.4043032 , 0.3692773 , 0.4403901 , 0.416333  ,\n",
            "        0.36851037, 0.16046135, 0.14189579, 0.4541838 , 0.3293682 ,\n",
            "        0.38292298, 0.10250197, 0.13286649, 0.34254566, 0.4095622 ,\n",
            "        0.575338  , 0.39221612, 0.3950379 , 0.15575461, 0.19383588,\n",
            "        0.208323  , 0.14648661, 0.415856  , 0.33700028, 0.15663362,\n",
            "        0.15921162, 0.42050073, 0.10967015, 0.4218146 , 0.15391639,\n",
            "        0.3783694 , 0.13397023, 0.1387811 , 0.3462755 , 0.3461503 ,\n",
            "        0.12546675, 0.44409126, 0.42941403, 0.15729776, 0.43546495,\n",
            "        0.13846318, 0.1340414 , 0.42373198, 0.14737703, 0.3591583 ,\n",
            "        0.14358976, 0.10628591, 0.3557319 , 0.498042  , 0.44277564,\n",
            "        0.        , 0.20620793, 0.09585728, 0.29854625, 0.38950074,\n",
            "        0.08892825, 0.15387374, 0.48947003, 0.19044039, 0.44609514,\n",
            "        0.14151919, 0.50730395, 0.19964169, 0.37339002, 0.39654714,\n",
            "        0.1480164 , 0.17945684, 0.20375273, 0.37709168, 0.33900616,\n",
            "        0.419801  , 0.40570605, 0.36146116, 0.38851842, 0.17121567,\n",
            "        0.38619667, 0.20925432, 0.15805584, 0.4524446 , 0.13171501,\n",
            "        0.18503505, 0.1656901 , 0.11248656, 0.3797354 , 0.45299557,\n",
            "        0.3848238 , 0.13193949, 0.17585953, 0.40295497, 0.13232212,\n",
            "        0.10931718, 0.5269423 , 0.12269448, 0.1566192 , 0.12121114,\n",
            "        0.36616346, 0.3339403 , 0.42300925, 0.14175797, 0.15527558,\n",
            "        0.14947122, 0.17011346, 0.19502333, 0.41231313, 0.43158114,\n",
            "        0.39297116, 0.16750841, 0.40832958, 0.45378032, 0.20211813,\n",
            "        0.23970544, 0.12965962, 0.18127666, 0.16485058, 0.50643045,\n",
            "        0.14644626, 0.36912122, 0.34775728, 0.13605255, 0.13789721,\n",
            "        0.2789472 , 0.1362757 , 0.45496824, 0.35751286, 0.41076514,\n",
            "        0.1492373 , 0.39360943, 0.49909297, 0.2042518 , 0.3816371 ,\n",
            "        0.16604173, 0.33572897, 0.22045475, 0.37082782, 0.14869551,\n",
            "        0.1319167 , 0.3542841 , 0.40095058, 0.5635868 , 0.37530622,\n",
            "        0.16939583, 0.21584083, 0.09140181, 0.5076824 , 0.37754717,\n",
            "        0.4002133 , 0.18190633, 0.14253496, 0.38647866, 0.49314702,\n",
            "        0.36456212, 0.40123048, 0.4450901 , 0.46562538, 0.4795861 ,\n",
            "        0.3600069 , 0.10847788, 0.19347872, 0.45916745, 0.40265122,\n",
            "        0.22343059, 0.4088221 , 0.09299871, 0.22190887, 0.15460823,\n",
            "        0.2213592 , 0.379551  , 0.19317453, 0.45787668, 0.3986085 ]],\n",
            "      dtype=float32), array([[0.0007278]], dtype=float32)]\n"
          ],
          "name": "stdout"
        }
      ]
    },
    {
      "cell_type": "code",
      "metadata": {
        "id": "D8oEKcAaA1QY",
        "colab_type": "code",
        "outputId": "27856daa-f42a-4d38-f3fc-524d8a234f64",
        "colab": {
          "base_uri": "https://localhost:8080/",
          "height": 34
        }
      },
      "source": [
        "y_test[0]"
      ],
      "execution_count": 25,
      "outputs": [
        {
          "output_type": "execute_result",
          "data": {
            "text/plain": [
              "0"
            ]
          },
          "metadata": {
            "tags": []
          },
          "execution_count": 25
        }
      ]
    },
    {
      "cell_type": "markdown",
      "metadata": {
        "id": "fztEPVLlB6JP",
        "colab_type": "text"
      },
      "source": [
        "**Each layer output has been printed above. Also looking at the last layer output we can see above the predicted output and the actual matches 0 which means the word is negative. Lets test with one more word.**\n",
        "\n"
      ]
    },
    {
      "cell_type": "code",
      "metadata": {
        "id": "-dUDSg7VeCzM",
        "colab_type": "code",
        "outputId": "a42eb53b-b2fd-4f10-c7da-a6354a2e5f8e",
        "colab": {
          "base_uri": "https://localhost:8080/",
          "height": 1000
        }
      },
      "source": [
        "# Testing\n",
        "layer_outs = functor([x_test[1:2], 1.])\n",
        "print layer_outs"
      ],
      "execution_count": 26,
      "outputs": [
        {
          "output_type": "stream",
          "text": [
            "[array([[[ 0.00399897,  0.00928004, -0.00539494, ..., -0.00369706,\n",
            "         -0.00754519, -0.01427043],\n",
            "        [ 0.00399897,  0.00928004, -0.00539494, ..., -0.00369706,\n",
            "         -0.00754519, -0.01427043],\n",
            "        [ 0.00399897,  0.00928004, -0.00539494, ..., -0.00369706,\n",
            "         -0.00754519, -0.01427043],\n",
            "        ...,\n",
            "        [-0.04895012, -0.03692472, -0.03840801, ...,  0.0248633 ,\n",
            "         -0.02185734,  0.00838978],\n",
            "        [-0.02859876, -0.00155839, -0.0101988 , ..., -0.05392627,\n",
            "         -0.01987219,  0.00329912],\n",
            "        [ 0.07098588, -0.04242374, -0.00329667, ..., -0.05647493,\n",
            "          0.01985215,  0.0476546 ]]], dtype=float32), array([[ 0.00399897,  0.00928004, -0.00539494, ..., -0.05647493,\n",
            "         0.01985215,  0.0476546 ]], dtype=float32), array([[0.0000000e+00, 0.0000000e+00, 7.1413249e-01, 0.0000000e+00,\n",
            "        0.0000000e+00, 1.2124496e-01, 0.0000000e+00, 5.8118188e-01,\n",
            "        0.0000000e+00, 0.0000000e+00, 7.9366362e-01, 0.0000000e+00,\n",
            "        6.0219395e-01, 7.4278384e-01, 7.3266023e-01, 0.0000000e+00,\n",
            "        0.0000000e+00, 8.0196756e-01, 0.0000000e+00, 0.0000000e+00,\n",
            "        0.0000000e+00, 0.0000000e+00, 7.8629315e-01, 0.0000000e+00,\n",
            "        0.0000000e+00, 0.0000000e+00, 8.2818747e-01, 5.6544799e-01,\n",
            "        0.0000000e+00, 0.0000000e+00, 7.6055926e-01, 9.4920403e-01,\n",
            "        0.0000000e+00, 6.9289750e-01, 0.0000000e+00, 6.4964342e-01,\n",
            "        0.0000000e+00, 0.0000000e+00, 0.0000000e+00, 5.9368718e-01,\n",
            "        0.0000000e+00, 7.4292141e-01, 9.3912798e-01, 0.0000000e+00,\n",
            "        6.8157661e-01, 7.5668561e-01, 0.0000000e+00, 6.3533181e-01,\n",
            "        7.9249632e-01, 0.0000000e+00, 0.0000000e+00, 0.0000000e+00,\n",
            "        0.0000000e+00, 0.0000000e+00, 0.0000000e+00, 9.0809435e-01,\n",
            "        0.0000000e+00, 0.0000000e+00, 8.9937150e-01, 0.0000000e+00,\n",
            "        6.2736207e-01, 7.0865548e-01, 0.0000000e+00, 0.0000000e+00,\n",
            "        0.0000000e+00, 8.7582117e-01, 7.4801344e-01, 7.1387702e-01,\n",
            "        8.6373919e-01, 5.7080781e-01, 8.0936754e-01, 0.0000000e+00,\n",
            "        7.8027880e-01, 3.4373771e-02, 0.0000000e+00, 6.0295182e-01,\n",
            "        0.0000000e+00, 0.0000000e+00, 7.4080664e-01, 8.2938254e-01,\n",
            "        7.5408512e-01, 0.0000000e+00, 0.0000000e+00, 0.0000000e+00,\n",
            "        0.0000000e+00, 0.0000000e+00, 6.6462475e-01, 8.6922812e-01,\n",
            "        0.0000000e+00, 0.0000000e+00, 0.0000000e+00, 6.4338386e-01,\n",
            "        9.7775769e-01, 2.2622157e-02, 0.0000000e+00, 0.0000000e+00,\n",
            "        0.0000000e+00, 0.0000000e+00, 6.5387672e-01, 9.1548389e-01,\n",
            "        6.5748841e-01, 7.2645819e-01, 0.0000000e+00, 0.0000000e+00,\n",
            "        7.6009482e-01, 5.7288957e-01, 0.0000000e+00, 6.9786888e-01,\n",
            "        0.0000000e+00, 6.6830289e-01, 0.0000000e+00, 7.2945493e-01,\n",
            "        7.3295981e-01, 0.0000000e+00, 0.0000000e+00, 4.5982832e-01,\n",
            "        0.0000000e+00, 0.0000000e+00, 8.1488073e-01, 0.0000000e+00,\n",
            "        6.8866241e-01, 6.3804531e-01, 0.0000000e+00, 6.3625801e-01,\n",
            "        0.0000000e+00, 6.0133117e-01, 8.4399146e-01, 0.0000000e+00,\n",
            "        0.0000000e+00, 0.0000000e+00, 0.0000000e+00, 7.5448006e-01,\n",
            "        7.9686248e-01, 0.0000000e+00, 0.0000000e+00, 8.0275840e-01,\n",
            "        8.8216400e-01, 0.0000000e+00, 6.6614568e-01, 0.0000000e+00,\n",
            "        7.5979429e-01, 0.0000000e+00, 7.6775140e-01, 0.0000000e+00,\n",
            "        0.0000000e+00, 7.2560650e-01, 7.1073240e-01, 5.9579152e-01,\n",
            "        0.0000000e+00, 0.0000000e+00, 0.0000000e+00, 0.0000000e+00,\n",
            "        0.0000000e+00, 0.0000000e+00, 5.8827746e-01, 0.0000000e+00,\n",
            "        6.2938625e-01, 7.5473499e-01, 0.0000000e+00, 7.4834269e-01,\n",
            "        6.4747971e-01, 8.3118320e-01, 6.2328780e-01, 0.0000000e+00,\n",
            "        0.0000000e+00, 0.0000000e+00, 7.8358442e-01, 7.2367918e-01,\n",
            "        3.3117458e-04, 7.6607889e-01, 6.5627027e-01, 0.0000000e+00,\n",
            "        7.7318466e-01, 6.5224528e-01, 8.4470874e-01, 0.0000000e+00,\n",
            "        0.0000000e+00, 0.0000000e+00, 7.1344465e-01, 7.2439301e-01,\n",
            "        7.4482638e-01, 6.4890409e-01, 7.5656998e-01, 0.0000000e+00,\n",
            "        0.0000000e+00, 0.0000000e+00, 7.2519970e-01, 0.0000000e+00,\n",
            "        0.0000000e+00, 7.4708098e-01, 8.1537694e-01, 6.7882794e-01,\n",
            "        8.6615616e-01, 7.5567311e-01, 0.0000000e+00, 7.1543562e-01,\n",
            "        0.0000000e+00, 1.1080038e-03, 7.9758996e-01, 6.0483503e-01,\n",
            "        8.0511504e-01, 8.0919188e-01, 0.0000000e+00, 0.0000000e+00,\n",
            "        0.0000000e+00, 7.7178848e-01, 0.0000000e+00, 0.0000000e+00,\n",
            "        8.0411673e-01, 0.0000000e+00, 6.4194500e-01, 0.0000000e+00,\n",
            "        7.0808625e-01, 0.0000000e+00, 6.7198581e-01, 6.2323076e-01,\n",
            "        0.0000000e+00, 0.0000000e+00, 0.0000000e+00, 0.0000000e+00,\n",
            "        6.6138744e-01, 6.4830416e-01, 7.6064211e-01, 0.0000000e+00,\n",
            "        0.0000000e+00, 0.0000000e+00, 6.6088557e-01, 5.9737837e-01,\n",
            "        0.0000000e+00, 0.0000000e+00, 0.0000000e+00, 0.0000000e+00,\n",
            "        0.0000000e+00, 0.0000000e+00, 0.0000000e+00, 0.0000000e+00,\n",
            "        8.4558779e-01, 8.8162327e-01, 0.0000000e+00, 0.0000000e+00,\n",
            "        6.5895355e-01, 0.0000000e+00, 6.8146801e-01, 7.1650851e-01,\n",
            "        6.7834187e-01, 7.5460315e-01, 0.0000000e+00, 6.7350250e-01,\n",
            "        0.0000000e+00, 0.0000000e+00]], dtype=float32), array([[1.]], dtype=float32)]\n"
          ],
          "name": "stdout"
        }
      ]
    },
    {
      "cell_type": "code",
      "metadata": {
        "id": "fTc9_isrCR1U",
        "colab_type": "code",
        "outputId": "bacfccf5-7e48-420e-db59-cd0eeb2a2751",
        "colab": {
          "base_uri": "https://localhost:8080/",
          "height": 34
        }
      },
      "source": [
        "y_test[1]"
      ],
      "execution_count": 27,
      "outputs": [
        {
          "output_type": "execute_result",
          "data": {
            "text/plain": [
              "1"
            ]
          },
          "metadata": {
            "tags": []
          },
          "execution_count": 27
        }
      ]
    },
    {
      "cell_type": "markdown",
      "metadata": {
        "id": "tL7aoUGrCV6n",
        "colab_type": "text"
      },
      "source": [
        "**As for the above text also the predicted is same as the actual output i.e \"1\". Now lets try to improve the accuracy by using below code.**"
      ]
    },
    {
      "cell_type": "code",
      "metadata": {
        "id": "Tskt_1npeCzP",
        "colab_type": "code",
        "outputId": "81f6f12b-e323-4d11-ff49-884019c81493",
        "colab": {
          "base_uri": "https://localhost:8080/",
          "height": 516
        }
      },
      "source": [
        "# CNN for the IMDB problem\n",
        "import numpy\n",
        "from keras.datasets import imdb\n",
        "from keras.models import Sequential\n",
        "from keras.layers import Dense\n",
        "from keras.layers import Flatten\n",
        "from keras.layers.convolutional import Conv1D\n",
        "from keras.layers.convolutional import MaxPooling1D\n",
        "from keras.layers.embeddings import Embedding\n",
        "from keras.preprocessing import sequence\n",
        "# load the dataset but only keep the top n words, zero the rest\n",
        "top_words = 10000\n",
        "(X_train, y_train), (X_test, y_test) = imdb.load_data(num_words=top_words)\n",
        "# pad dataset to a maximum review length in words\n",
        "max_words = 300\n",
        "X_train = sequence.pad_sequences(X_train, maxlen=max_words)\n",
        "X_test = sequence.pad_sequences(X_test, maxlen=max_words)\n",
        "# create the model\n",
        "model = Sequential()\n",
        "model.add(Embedding(top_words, 32, input_length=max_words))\n",
        "model.add(Conv1D(filters=32, kernel_size=3, padding='same', activation='relu'))\n",
        "model.add(MaxPooling1D(pool_size=2))\n",
        "model.add(Flatten())\n",
        "model.add(Dense(250, activation='relu'))\n",
        "model.add(Dense(1, activation='sigmoid'))\n",
        "model.compile(loss='binary_crossentropy', optimizer='adam', metrics=['accuracy'])\n",
        "model.summary()\n",
        "# Fit the model\n",
        "model.fit(X_train, y_train, validation_data=(X_test, y_test), epochs=2, batch_size=128, verbose=2)\n",
        "# Final evaluation of the model\n",
        "scores = model.evaluate(X_test, y_test, verbose=0)\n",
        "print(\"Accuracy: %.2f%%\" % (scores[1]*100))"
      ],
      "execution_count": 28,
      "outputs": [
        {
          "output_type": "stream",
          "text": [
            "W0728 17:18:25.317281 139809411356544 deprecation_wrapper.py:119] From /usr/local/lib/python2.7/dist-packages/keras/backend/tensorflow_backend.py:3976: The name tf.nn.max_pool is deprecated. Please use tf.nn.max_pool2d instead.\n",
            "\n"
          ],
          "name": "stderr"
        },
        {
          "output_type": "stream",
          "text": [
            "_________________________________________________________________\n",
            "Layer (type)                 Output Shape              Param #   \n",
            "=================================================================\n",
            "embedding_2 (Embedding)      (None, 300, 32)           320000    \n",
            "_________________________________________________________________\n",
            "conv1d_1 (Conv1D)            (None, 300, 32)           3104      \n",
            "_________________________________________________________________\n",
            "max_pooling1d_1 (MaxPooling1 (None, 150, 32)           0         \n",
            "_________________________________________________________________\n",
            "flatten_2 (Flatten)          (None, 4800)              0         \n",
            "_________________________________________________________________\n",
            "dense_3 (Dense)              (None, 250)               1200250   \n",
            "_________________________________________________________________\n",
            "dense_4 (Dense)              (None, 1)                 251       \n",
            "=================================================================\n",
            "Total params: 1,523,605\n",
            "Trainable params: 1,523,605\n",
            "Non-trainable params: 0\n",
            "_________________________________________________________________\n",
            "Train on 25000 samples, validate on 25000 samples\n",
            "Epoch 1/2\n",
            " - 4s - loss: 0.4922 - acc: 0.7309 - val_loss: 0.2827 - val_acc: 0.8820\n",
            "Epoch 2/2\n",
            " - 1s - loss: 0.2063 - acc: 0.9191 - val_loss: 0.2770 - val_acc: 0.8855\n",
            "Accuracy: 88.55%\n"
          ],
          "name": "stdout"
        }
      ]
    },
    {
      "cell_type": "code",
      "metadata": {
        "id": "r-yNE-_Blwjy",
        "colab_type": "code",
        "colab": {}
      },
      "source": [
        ""
      ],
      "execution_count": 0,
      "outputs": []
    }
  ]
}