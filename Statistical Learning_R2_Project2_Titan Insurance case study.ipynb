{
 "cells": [
  {
   "cell_type": "code",
   "execution_count": 1,
   "metadata": {
    "collapsed": true
   },
   "outputs": [],
   "source": [
    "import pandas as pd\n",
    "import numpy as np"
   ]
  },
  {
   "cell_type": "code",
   "execution_count": 2,
   "metadata": {},
   "outputs": [
    {
     "data": {
      "text/html": [
       "<div>\n",
       "<style>\n",
       "    .dataframe thead tr:only-child th {\n",
       "        text-align: right;\n",
       "    }\n",
       "\n",
       "    .dataframe thead th {\n",
       "        text-align: left;\n",
       "    }\n",
       "\n",
       "    .dataframe tbody tr th {\n",
       "        vertical-align: top;\n",
       "    }\n",
       "</style>\n",
       "<table border=\"1\" class=\"dataframe\">\n",
       "  <thead>\n",
       "    <tr style=\"text-align: right;\">\n",
       "      <th></th>\n",
       "      <th>SALESPERSON</th>\n",
       "      <th>Old Scheme (in thousands)</th>\n",
       "      <th>New Scheme (in thousands)</th>\n",
       "    </tr>\n",
       "  </thead>\n",
       "  <tbody>\n",
       "    <tr>\n",
       "      <th>0</th>\n",
       "      <td>1</td>\n",
       "      <td>57</td>\n",
       "      <td>62</td>\n",
       "    </tr>\n",
       "    <tr>\n",
       "      <th>1</th>\n",
       "      <td>2</td>\n",
       "      <td>103</td>\n",
       "      <td>122</td>\n",
       "    </tr>\n",
       "    <tr>\n",
       "      <th>2</th>\n",
       "      <td>3</td>\n",
       "      <td>59</td>\n",
       "      <td>54</td>\n",
       "    </tr>\n",
       "    <tr>\n",
       "      <th>3</th>\n",
       "      <td>4</td>\n",
       "      <td>75</td>\n",
       "      <td>82</td>\n",
       "    </tr>\n",
       "    <tr>\n",
       "      <th>4</th>\n",
       "      <td>5</td>\n",
       "      <td>84</td>\n",
       "      <td>84</td>\n",
       "    </tr>\n",
       "  </tbody>\n",
       "</table>\n",
       "</div>"
      ],
      "text/plain": [
       "   SALESPERSON  Old Scheme (in thousands)  New Scheme (in thousands)\n",
       "0            1                         57                         62\n",
       "1            2                        103                        122\n",
       "2            3                         59                         54\n",
       "3            4                         75                         82\n",
       "4            5                         84                         84"
      ]
     },
     "execution_count": 2,
     "metadata": {},
     "output_type": "execute_result"
    }
   ],
   "source": [
    "df= pd.read_excel(\"Titan.xlsx\", sheet_name=\"Sheet1\")\n",
    "df.head(5)"
   ]
  },
  {
   "cell_type": "code",
   "execution_count": 3,
   "metadata": {},
   "outputs": [
    {
     "name": "stdout",
     "output_type": "stream",
     "text": [
      "Mean Old Scheme = 68033.33333333333 \n",
      " Mean New Scheme = 72033.33333333333\n"
     ]
    },
    {
     "data": {
      "text/html": [
       "<div>\n",
       "<style>\n",
       "    .dataframe thead tr:only-child th {\n",
       "        text-align: right;\n",
       "    }\n",
       "\n",
       "    .dataframe thead th {\n",
       "        text-align: left;\n",
       "    }\n",
       "\n",
       "    .dataframe tbody tr th {\n",
       "        vertical-align: top;\n",
       "    }\n",
       "</style>\n",
       "<table border=\"1\" class=\"dataframe\">\n",
       "  <thead>\n",
       "    <tr style=\"text-align: right;\">\n",
       "      <th></th>\n",
       "      <th>SALESPERSON</th>\n",
       "      <th>Old Scheme (in thousands)</th>\n",
       "      <th>New Scheme (in thousands)</th>\n",
       "    </tr>\n",
       "  </thead>\n",
       "  <tbody>\n",
       "    <tr>\n",
       "      <th>mean</th>\n",
       "      <td>15.5</td>\n",
       "      <td>68.033333</td>\n",
       "      <td>72.033333</td>\n",
       "    </tr>\n",
       "  </tbody>\n",
       "</table>\n",
       "</div>"
      ],
      "text/plain": [
       "      SALESPERSON  Old Scheme (in thousands)  New Scheme (in thousands)\n",
       "mean         15.5                  68.033333                  72.033333"
      ]
     },
     "execution_count": 3,
     "metadata": {},
     "output_type": "execute_result"
    }
   ],
   "source": [
    "#Question 1:\n",
    "#Find the mean of old scheme and new scheme column.\n",
    "mean_old_scheme = np.mean(df['Old Scheme (in thousands)'] * 1000)\n",
    "mean_new_scheme = np.mean(df[\"New Scheme (in thousands)\"] * 1000)\n",
    "print('Mean Old Scheme =', mean_old_scheme, '\\n', 'Mean New Scheme =', mean_new_scheme)\n",
    "df.describe().iloc[1:2]"
   ]
  },
  {
   "cell_type": "code",
   "execution_count": 4,
   "metadata": {},
   "outputs": [
    {
     "name": "stdout",
     "output_type": "stream",
     "text": [
      "Statistics= -1.556, p = 0.131\n",
      "we accept (fail to reject) NULL hypothesis. The new scheme has NOT significantly raised outputs.\n"
     ]
    }
   ],
   "source": [
    "#Question 2 & 3:\n",
    "# 2) Use the five percent significance test over the data to determine the p value to check new scheme has significantly raised outputs?    \n",
    "# 3) What conclusion does the test (p-value) lead to?\n",
    "\n",
    "##It is asked that whether the new scheme has significantly raised the output, it is an example of the one-tailed t-test.\n",
    "## one-tailed t-test\n",
    "\n",
    "# a = Significantly raised output BEFORE Old Scheme. \n",
    "# b = Significantly raised output AFTER Old Scheme.\n",
    "\n",
    "## H0: a = b  ; b – a  = 0 ## new scheme has NOT significantly raised outputs\n",
    "## HA: a < b  ; b – a  > 0 ; ## new scheme has significantly raised outputs\n",
    "\n",
    "## Since population standard deviation is unknown, paired sample t-test will be used.\n",
    "\n",
    "from scipy.stats import ttest_rel\n",
    "# compare samples\n",
    "stat, p = ttest_rel((df[\"Old Scheme (in thousands)\"] * 1000), (df[\"New Scheme (in thousands)\"] * 1000))\n",
    "print('Statistics= %.3f, p = %.3f' % (stat, p))\n",
    "\n",
    "# interpret\n",
    "alpha = 0.05\n",
    "if p > alpha:\n",
    "    print('we accept (fail to reject) NULL hypothesis. The new scheme has NOT significantly raised outputs.')\n",
    "else:\n",
    "    print('we reject NULL hypothesis and we argue that the new scheme has significantly raised outputs.')\n"
   ]
  },
  {
   "cell_type": "code",
   "execution_count": 5,
   "metadata": {},
   "outputs": [
    {
     "name": "stdout",
     "output_type": "stream",
     "text": [
      "levene Statistics= 1.063, levene p value = 0.307 \n",
      "\n",
      "Statistics= 1.554, p value = 0.131 \n",
      "\n",
      "we accept (fail to reject) NULL hypothesis. The average output has not increased by £5000 in the new scheme compared to the old scheme. \n",
      "\n",
      "The probability of a type 1 error: 0.8689616353068759 \n",
      "\n",
      "The power of the test is:  0.9604903667385687\n"
     ]
    }
   ],
   "source": [
    "#Question 4:\n",
    "## Suppose it has been calculated that in order for Titan to break even, the average output must increase by £5000 in the scheme compared to the old scheme. If this figure is alternative hypothesis, what is:\n",
    "        # a) The probability of a type 1 error?\n",
    "        # b) What is the p- value of the hypothesis test if we test for a difference of $5000?\n",
    "        # c) Power of the test\n",
    "\n",
    "## H0: The average output has not increased by £5000 in the scheme compared to the old scheme, or mean difference is less than equal to 5000\n",
    "## HA: The average output has increased by £5000 in the scheme compared to the old scheme, or mean difference is greater than 5000\n",
    "\n",
    "from statsmodels.stats.power import TTestPower\n",
    "from scipy.stats import ttest_1samp, levene\n",
    "alpha = 0.05\n",
    "\n",
    "l_stat, l_p = levene(df['Old Scheme (in thousands)'], df['New Scheme (in thousands)'])\n",
    "print('levene Statistics= %.3f, levene p value = %.3f' % (l_stat, l_p), '\\n')\n",
    "\n",
    "#since p-value is greater than 0.05 so the variance test is also satisfied. \n",
    "#i.e both the groups have the same variance. So, Now let's go for parametric Test.\n",
    "\n",
    "if p > alpha:\n",
    "    df['diff'] = df['New Scheme (in thousands)'] - df['Old Scheme (in thousands)']\n",
    "    stat, p = ttest_1samp((df['diff'] * 1000), 5)\n",
    "    \n",
    "    print('Statistics= %.3f, p value = %.3f' % (stat, p), '\\n')\n",
    "    \n",
    "    # interpret\n",
    "    if p > alpha:\n",
    "        print('we accept (fail to reject) NULL hypothesis. The average output has not increased by £5000 in the new scheme compared to the old scheme. \\n')\n",
    "    else:\n",
    "        print('we reject NULL hypothesis and we argue that the average output has not increased by £5000 in the new scheme compared to the old scheme. \\n')\n",
    "\n",
    "    type1Error = (1 - p)\n",
    "    print(\"The probability of a type 1 error:\", type1Error, \"\\n\")\n",
    "\n",
    "    effect = df['diff'].mean() / df['diff'].std()\n",
    "    analysis = TTestPower()\n",
    "    result = analysis.solve_power(effect, nobs=df[\"Old Scheme (in thousands)\"].count().astype(float), alpha=type1Error.astype(float))\n",
    "    print(\"The power of the test is: \", result)"
   ]
  },
  {
   "cell_type": "code",
   "execution_count": 6,
   "metadata": {},
   "outputs": [
    {
     "name": "stdout",
     "output_type": "stream",
     "text": [
      "Statistics= -0.694, p value = 0.491 \n",
      "\n",
      "The power of the test is:  0.16610169779030542\n"
     ]
    }
   ],
   "source": [
    "#Null Hypothesis : New scheme sales has avg 5k less than old scheme sales \n",
    "#Alternate Hypothesis : New scheme sales has avg 5k more than old scheme sales \n",
    "\n",
    "# a) probability of a type 1 error is 5%, if alpha is less tha 5% then reject Null hypothesis (typw 1 error)\n",
    "# b) Null Hyp : mean1-mean2=5k\n",
    "#    Alt Hyp : mean1-mean2^=5k\n",
    "\n",
    "from scipy import stats\n",
    "\n",
    "stat, p = stats.ttest_ind(df['Old Scheme (in thousands)'], df['New Scheme (in thousands)'], equal_var = False)\n",
    "print('Statistics= %.3f, p value = %.3f' % (stat, p), '\\n')\n",
    "\n",
    "# P value is > 5% so do not reject Null Hypothesis and difference between sales mean = 5K\n",
    "\n",
    "# Power of ttest\n",
    "import numpy as np\n",
    "import pandas as pd\n",
    "from scipy.stats import ttest_1samp, ttest_ind, mannwhitneyu, levene, shapiro,bartlett\n",
    "from statsmodels.stats.power import ttest_power\n",
    "import matplotlib.pyplot as plt\n",
    "%matplotlib inline\n",
    "old=df['Old Scheme (in thousands)']\n",
    "new=df['New Scheme (in thousands)']\n",
    "len1=len(old)\n",
    "len2=len(new)\n",
    "d=(np.mean(old) - np.mean(new)) / np.sqrt(((len1-1)*np.var(old)+(len2-1)*np.var(new)) / len1+len2-2)\n",
    "result = ttest_power(d, nobs=len1+len2, alpha=0.05, alternative='two-sided')\n",
    "print(\"The power of the test is: \", result)"
   ]
  },
  {
   "cell_type": "code",
   "execution_count": null,
   "metadata": {
    "collapsed": true
   },
   "outputs": [],
   "source": []
  }
 ],
 "metadata": {
  "kernelspec": {
   "display_name": "Python 3",
   "language": "python",
   "name": "python3"
  },
  "language_info": {
   "codemirror_mode": {
    "name": "ipython",
    "version": 3
   },
   "file_extension": ".py",
   "mimetype": "text/x-python",
   "name": "python",
   "nbconvert_exporter": "python",
   "pygments_lexer": "ipython3",
   "version": "3.6.2"
  }
 },
 "nbformat": 4,
 "nbformat_minor": 2
}
